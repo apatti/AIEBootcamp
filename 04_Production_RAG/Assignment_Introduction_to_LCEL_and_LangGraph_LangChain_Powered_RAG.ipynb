{
 "cells": [
  {
   "cell_type": "markdown",
   "metadata": {
    "id": "47eTBHYNP4g1"
   },
   "source": [
    "# Introduction to LCEL and LangGraph: LangChain Powered RAG\n",
    "\n",
    "In the following notebook we're going to focus on learning how to navigate and build useful applications using LangChain, specifically LCEL, and how to integrate different APIs together into a coherent RAG application!\n",
    "\n",
    "In the notebook, you'll complete the following Tasks:\n",
    "\n",
    "- 🤝 Breakout Room #1:\n",
    "  1. Install required libraries\n",
    "  2. Set Environment Variables  \n",
    "  3. Initialize a Simple Chain using LCEL\n",
    "  4. Implement Naive RAG using LCEL\n",
    "  5. Implement Simple RAG using LCEL\n",
    "\n",
    "- 🤝 Breakout Room #2:\n",
    "  1. Install LangGraph\n",
    "  2. Understanding States and Nodes\n",
    "  3. Building a Basic Graph\n",
    "  4. Implementing a Simple RAG Graph\n",
    "  5. Extending the Graph with Complex Flows\n",
    "\n",
    "Let's get started!\n",
    "\n"
   ]
  },
  {
   "cell_type": "markdown",
   "metadata": {
    "id": "2ayVXHXHRE_t"
   },
   "source": [
    "# 🤝 Breakout Room #1"
   ]
  },
  {
   "cell_type": "markdown",
   "metadata": {
    "id": "aVHd6POM0JFN"
   },
   "source": [
    "## Installing Required Libraries\n",
    "\n",
    "One of the [key features](https://blog.langchain.dev/langchain-v02-leap-to-stability/) of LangChain v0.2.0 is the compartmentalization of the various LangChain ecosystem packages and added stability.\n",
    "\n",
    "Instead of one all encompassing Python package - LangChain has a `core` package and a number of additional supplementary packages.\n",
    "\n",
    "We'll start by grabbing all of our LangChain related packages!"
   ]
  },
  {
   "cell_type": "code",
   "execution_count": 1,
   "metadata": {
    "colab": {
     "base_uri": "https://localhost:8080/"
    },
    "id": "nCC2AR-Q0m0x",
    "outputId": "cbd49ab6-f2fb-420c-e64c-e656ad21524e"
   },
   "outputs": [
    {
     "name": "stdout",
     "output_type": "stream",
     "text": [
      "pyenv: version `3.13' is not installed (set by /Users/ashwin.patti/learning/AIEBootcamp/04_Production_RAG/.python-version)\n",
      "pyenv: pip: command not found\n",
      "\n",
      "The `pip' command exists in these Python versions:\n",
      "  3.8.19\n",
      "\n",
      "Note: See 'pyenv help global' for tips on allowing both\n",
      "      python2 and python3 to be found.\n"
     ]
    }
   ],
   "source": [
    "!pip install -qU langchain==0.3.15 langchain-core==0.3.31 langchain-community==0.3.15 langchain-openai==0.3.1"
   ]
  },
  {
   "cell_type": "markdown",
   "metadata": {
    "id": "S5ELHQjQ1PYs"
   },
   "source": [
    "Now we can get our Qdrant dependencies!"
   ]
  },
  {
   "cell_type": "code",
   "execution_count": 2,
   "metadata": {
    "colab": {
     "base_uri": "https://localhost:8080/"
    },
    "id": "76XeYI9P1OXO",
    "outputId": "7fde097a-b482-47b5-be14-05c48c695841"
   },
   "outputs": [
    {
     "name": "stdout",
     "output_type": "stream",
     "text": [
      "pyenv: version `3.13' is not installed (set by /Users/ashwin.patti/learning/AIEBootcamp/04_Production_RAG/.python-version)\n",
      "pyenv: pip: command not found\n",
      "\n",
      "The `pip' command exists in these Python versions:\n",
      "  3.8.19\n",
      "\n",
      "Note: See 'pyenv help global' for tips on allowing both\n",
      "      python2 and python3 to be found.\n"
     ]
    }
   ],
   "source": [
    "!pip install -qU langchain-qdrant==0.2.0 qdrant-client==1.13.2"
   ]
  },
  {
   "cell_type": "markdown",
   "metadata": {
    "id": "Iesey9OGCKJx"
   },
   "source": [
    "Let's finally get `tiktoken` and `pymupdf` so we can leverage them later on!"
   ]
  },
  {
   "cell_type": "code",
   "execution_count": 3,
   "metadata": {
    "colab": {
     "base_uri": "https://localhost:8080/"
    },
    "id": "K5qIUrFuENrS",
    "outputId": "ea9d4e53-7018-4fd9-dab1-4223772b9bc6"
   },
   "outputs": [
    {
     "name": "stdout",
     "output_type": "stream",
     "text": [
      "pyenv: version `3.13' is not installed (set by /Users/ashwin.patti/learning/AIEBootcamp/04_Production_RAG/.python-version)\n",
      "pyenv: pip: command not found\n",
      "\n",
      "The `pip' command exists in these Python versions:\n",
      "  3.8.19\n",
      "\n",
      "Note: See 'pyenv help global' for tips on allowing both\n",
      "      python2 and python3 to be found.\n"
     ]
    }
   ],
   "source": [
    "!pip install -qU tiktoken pymupdf==1.25.2"
   ]
  },
  {
   "cell_type": "markdown",
   "metadata": {
    "id": "sl6wTp9C5qbY"
   },
   "source": [
    "## Set Environment Variables\n",
    "\n",
    "We'll be leveraging OpenAI's suite of APIs - so we'll set our `OPENAI_API_KEY` `env` variable here!"
   ]
  },
  {
   "cell_type": "code",
   "execution_count": 4,
   "metadata": {
    "colab": {
     "base_uri": "https://localhost:8080/"
    },
    "id": "7pKAfycq73wE",
    "outputId": "0b5702c2-028b-4bf4-ae8a-fffe243574a7"
   },
   "outputs": [
    {
     "name": "stdin",
     "output_type": "stream",
     "text": [
      "OpenAI API Key: ········\n"
     ]
    }
   ],
   "source": [
    "import os\n",
    "import getpass\n",
    "\n",
    "os.environ[\"OPENAI_API_KEY\"] = getpass.getpass(\"OpenAI API Key:\")"
   ]
  },
  {
   "cell_type": "markdown",
   "metadata": {
    "id": "Q_xp54wIA56_"
   },
   "source": [
    "## Initialize a Simple Chain using LCEL\n",
    "\n",
    "The first thing we'll do is familiarize ourselves with LCEL and the specific ins and outs of how we can use it!"
   ]
  },
  {
   "cell_type": "markdown",
   "metadata": {
    "id": "SyGdhbS6SkD1"
   },
   "source": [
    "### LLM Orchestration Tool (LangChain)\n",
    "\n",
    "Let's dive right into [LangChain](https://www.langchain.com/)!\n",
    "\n",
    "The first thing we want to do is create an object that lets us access OpenAI's `gpt-4o` model."
   ]
  },
  {
   "cell_type": "code",
   "execution_count": 5,
   "metadata": {
    "id": "3Uj6SorxMj8e"
   },
   "outputs": [],
   "source": [
    "from langchain_openai import ChatOpenAI\n",
    "\n",
    "openai_chat_model = ChatOpenAI(model=\"gpt-4o-mini\")"
   ]
  },
  {
   "cell_type": "markdown",
   "metadata": {
    "id": "HsmiieEh_Ye-"
   },
   "source": [
    "####❓ Question #1:\n",
    "\n",
    "What other models could we use, and how would the above code change?\n",
    "\n",
    "> HINT: Check out [this page](https://platform.openai.com/docs/models) to find the answer!"
   ]
  },
  {
   "cell_type": "markdown",
   "metadata": {},
   "source": [
    "#### Answer:\n",
    "We can use various OpenAI models such as gpt-4o, o1, o1-mini, gpt-4o Realtime, gpt-4o Audio, gpt-3.5 Turbo etc. <br/>\n",
    "To use use any of these models, we need to change the model parameter being passed in ChaptOpenAI."
   ]
  },
  {
   "cell_type": "markdown",
   "metadata": {
    "id": "9nU8SlHfH41T"
   },
   "source": [
    "### Prompt Template"
   ]
  },
  {
   "cell_type": "markdown",
   "metadata": {
    "id": "dcMKLZWBVYm7"
   },
   "source": [
    "Now, we'll set up a prompt template - more specifically a `ChatPromptTemplate`. This will let us build a prompt we can modify when we call our LLM!"
   ]
  },
  {
   "cell_type": "code",
   "execution_count": 6,
   "metadata": {
    "id": "Z770j4zPS3o5"
   },
   "outputs": [],
   "source": [
    "from langchain_core.prompts import ChatPromptTemplate\n",
    "\n",
    "system_template = \"You are a legendary and mythical Wizard. You speak in riddles and make obscure and pun-filled references to exotic cheeses.\"\n",
    "human_template = \"{content}\"\n",
    "\n",
    "chat_prompt = ChatPromptTemplate.from_messages([\n",
    "    (\"system\", system_template),\n",
    "    (\"human\", human_template)\n",
    "])"
   ]
  },
  {
   "cell_type": "markdown",
   "metadata": {
    "id": "eGku_c2VVyd_"
   },
   "source": [
    "### Our First Chain\n",
    "\n",
    "Now we can set up our first chain!\n",
    "\n",
    "A chain is simply two components that feed directly into eachother in a sequential fashion!\n",
    "\n",
    "You'll notice that we're using the pipe operator `|` to connect our `chat_prompt` to our `llm`.\n",
    "\n",
    "This is a simplified method of creating chains and it leverages the LangChain Expression Language, or LCEL.\n",
    "\n",
    "You can read more about it [here](https://python.langchain.com/v0.2/docs/concepts/#langchain-expression-language-lcel), but there a few features we should be aware of out of the box (taken directly from LangChain's documentation linked above):\n",
    "\n",
    "- **Async, Batch, and Streaming Support** Any chain constructed this way will automatically have full sync, async, batch, and streaming support. This makes it easy to prototype a chain in a Jupyter notebook using the sync interface, and then expose it as an async streaming interface.\n",
    "\n",
    "- **Fallbacks** The non-determinism of LLMs makes it important to be able to handle errors gracefully. With LCEL you can easily attach fallbacks to any chain.\n",
    "\n",
    "- **Parallelism** Since LLM applications involve (sometimes long) API calls, it often becomes important to run things in parallel. With LCEL syntax, any components that can be run in parallel automatically are.\n",
    "\n",
    "In the following code cell we have two components:\n",
    "\n",
    "- `chat_prompt`, which is a formattable `ChatPromptTemplate` that contains a system message and a human message.\n",
    "- `openai_chat_model`, which is a LangChain Runnable wrapped OpenAI client.\n",
    "\n",
    "We'd like to be able to pass our own `content` (as found in our `human_template`) and then have the resulting message pair sent to our model and responded to!"
   ]
  },
  {
   "cell_type": "code",
   "execution_count": 113,
   "metadata": {
    "id": "RcJyqOiwVt04"
   },
   "outputs": [],
   "source": [
    "chain = chat_prompt | openai_chat_model"
   ]
  },
  {
   "cell_type": "markdown",
   "metadata": {
    "id": "QV_kHCjlL_01"
   },
   "source": [
    "Notice the pattern here:\n",
    "\n",
    "We invoke our chain with the `dict` `{\"content\" : \"Hello world!\"}`.\n",
    "\n",
    "It enters our chain:\n",
    "\n",
    "`{\"content\" : \"Hello world!\"}` -> `invoke()` -> `chat_prompt`\n",
    "\n",
    "Our `chat_prompt` returns a `PromptValue`, which is the formatted prompt. We then \"pipe\" the output of our `chat_prompt` into our `llm`.\n",
    "\n",
    "`PromptValue` -> `|` -> `llm`\n",
    "\n",
    "Our `llm` then takes the list of messages and provides an output which is return as a `str`!\n",
    "\n",
    "\n",
    "\n",
    "\n",
    "\n"
   ]
  },
  {
   "cell_type": "code",
   "execution_count": 8,
   "metadata": {
    "colab": {
     "base_uri": "https://localhost:8080/"
    },
    "id": "0cqr2QuMtIjn",
    "outputId": "acc3f8bc-106a-4fd6-9b4e-6caddc0a94ca"
   },
   "outputs": [
    {
     "name": "stdout",
     "output_type": "stream",
     "text": [
      "content='Ah, greetings, dear seeker of knowledge! Like a fondue pot bubbling with curious delights, you bring warmth to this ether! Pray tell, what query do you wish to unwrap, like a fine Brie beneath its crust, revealing treasures within?' additional_kwargs={'refusal': None} response_metadata={'token_usage': {'completion_tokens': 50, 'prompt_tokens': 38, 'total_tokens': 88, 'completion_tokens_details': {'accepted_prediction_tokens': 0, 'audio_tokens': 0, 'reasoning_tokens': 0, 'rejected_prediction_tokens': 0}, 'prompt_tokens_details': {'audio_tokens': 0, 'cached_tokens': 0}}, 'model_name': 'gpt-4o-mini-2024-07-18', 'system_fingerprint': 'fp_bd83329f63', 'finish_reason': 'stop', 'logprobs': None} id='run-91857242-cff1-4e13-9de9-87ae775491dd-0' usage_metadata={'input_tokens': 38, 'output_tokens': 50, 'total_tokens': 88, 'input_token_details': {'audio': 0, 'cache_read': 0}, 'output_token_details': {'audio': 0, 'reasoning': 0}}\n"
     ]
    }
   ],
   "source": [
    "print(chain.invoke({\"content\": \"Hello world!\"}))"
   ]
  },
  {
   "cell_type": "markdown",
   "metadata": {
    "id": "2znL48ECNteM"
   },
   "source": [
    "Let's try it out with a different prompt!"
   ]
  },
  {
   "cell_type": "code",
   "execution_count": 9,
   "metadata": {
    "colab": {
     "base_uri": "https://localhost:8080/"
    },
    "id": "mjiTNeYXUCAB",
    "outputId": "b5d2bb5b-487f-4a3e-8673-5f31987a56f5"
   },
   "outputs": [
    {
     "data": {
      "text/plain": [
       "AIMessage(content=\"Ah, seeker of the serpentine code, listen to my words, for they are as aged and rich as a wheel of Roquefort resting beneath the moonlit sky!\\n\\nTo sharpen thy skills in Python's mystic arts, heed these riddles:\\n\\n1. **Curds and Code**: Practice ye must, for just as a fine Gouda develops its sublime taste through time, so too must thy hands dance upon the keyboard. Create small scripts, let them rise like a well-aged Emmental!\\n\\n2. **The Cream of the Crop**: Dive into the depths of libraries, where treasures lie like a cheese shop—explore NumPy, Pandas, and Flask, and soon thou shalt mold thy projects into a wondrous fondue of functionality.\\n\\n3. **Debugging Wisdom**: To confront the pesky bugs that haunt thy creation, arm thyself with tools such as PDB and logging, much like a cheese-maker who studies the curds’ fate to evict the whey.\\n\\n4. **The Community's Bounty**: Join the circles of knowledge, from forums to meetups, where the fondness of fellow coders flows like a river of melted Brie. Share your challenges, for many minds can curate the finest of cheeses!\\n\\n5. **Code With Flair**: Read the scrolls of the ancients—observe the style of others! Code should sing like a well-paired Camembert and apple; utilize PEP 8, let clarity be thy guiding star.\\n\\n6. **Projects of Grandeur**: Create something that **wheels** through the ages, an application that echoes through the crypt of coders past—much like a Parmigiano-Reggiano, worthy of a lengthy repose.\\n\\n7. **Testing is Thy Friend**: Write tests as thou wouldst craft a platter of assorted cheeses, ensuring each bite offers joy. Incorporate unittest or pytest; let thy code be as resilient as a good wax-covered cheese.\\n\\nIn the end, remember: each line of code is a delicate layer of a multi-tiered cheese cake, waiting to be savored by those who dare to explore its depths. Go forth, code-wielder, and may your syntax be as flawless as a perfectly aged Comté!\", additional_kwargs={'refusal': None}, response_metadata={'token_usage': {'completion_tokens': 458, 'prompt_tokens': 50, 'total_tokens': 508, 'completion_tokens_details': {'accepted_prediction_tokens': 0, 'audio_tokens': 0, 'reasoning_tokens': 0, 'rejected_prediction_tokens': 0}, 'prompt_tokens_details': {'audio_tokens': 0, 'cached_tokens': 0}}, 'model_name': 'gpt-4o-mini-2024-07-18', 'system_fingerprint': 'fp_72ed7ab54c', 'finish_reason': 'stop', 'logprobs': None}, id='run-99505986-80ae-4784-9739-bde71132f0b2-0', usage_metadata={'input_tokens': 50, 'output_tokens': 458, 'total_tokens': 508, 'input_token_details': {'audio': 0, 'cache_read': 0}, 'output_token_details': {'audio': 0, 'reasoning': 0}})"
      ]
     },
     "execution_count": 9,
     "metadata": {},
     "output_type": "execute_result"
    }
   ],
   "source": [
    "chain.invoke({\"content\" : \"Could I please have some advice on how to become a better Python Programmer?\"})"
   ]
  },
  {
   "cell_type": "markdown",
   "metadata": {
    "id": "THcMz8YAWsjP"
   },
   "source": [
    "Notice how we specifically referenced our `content` format option!\n",
    "\n",
    "Now that we have the basics set up - let's see what we mean by \"Retrieval Augmented\" Generation."
   ]
  },
  {
   "cell_type": "markdown",
   "metadata": {
    "id": "P7o8aXbhRAPe"
   },
   "source": [
    "## Naive RAG - Manually adding context through the Prompt Template\n",
    "\n",
    "Let's look at how our model performs at a simple task - defining what LangChain is!\n",
    "\n",
    "We'll redo some of our previous work to change the `system_template` to be less...verbose."
   ]
  },
  {
   "cell_type": "code",
   "execution_count": 10,
   "metadata": {
    "colab": {
     "base_uri": "https://localhost:8080/"
    },
    "id": "Qu_Uox_pPKaf",
    "outputId": "57ca2111-c0c6-47c3-968d-978828901ec3"
   },
   "outputs": [
    {
     "name": "stdout",
     "output_type": "stream",
     "text": [
      "content='As of my last knowledge update in October 2023, \"LangGraph\" refers to a framework or concept related to representing language using graph structures. While there may not be a widely recognized definition or standardized implementation specifically called \"LangGraph,\" it typically incorporates principles from natural language processing (NLP) and graph theory.\\n\\nIn various contexts, LangGraph can be understood as:\\n\\n1. **Graph Representation of Language**: Using graphs to represent linguistic entities (like words, phrases, or sentences) and their relationships. This allows for the modeling of syntax, semantics, or the connections between different elements of language.\\n\\n2. **Applications in NLP**: Employing graph-based models in tasks such as semantic analysis, knowledge representation, and machine learning for language understanding. Graph neural networks (GNNs) may also be utilized to learn from such structures.\\n\\n3. **Knowledge Graphs**: In some cases, LangGraph might refer to the use of knowledge graphs that include linguistic information and relationships, enhancing tasks such as information retrieval or question answering.\\n\\nIf there\\'s been a specific new development or application of \"LangGraph\" since October 2023, I may not be aware of it. For the latest and most specific information, I recommend checking recent publications or online resources in natural language processing and related fields.' additional_kwargs={'refusal': None} response_metadata={'token_usage': {'completion_tokens': 262, 'prompt_tokens': 22, 'total_tokens': 284, 'completion_tokens_details': {'accepted_prediction_tokens': 0, 'audio_tokens': 0, 'reasoning_tokens': 0, 'rejected_prediction_tokens': 0}, 'prompt_tokens_details': {'audio_tokens': 0, 'cached_tokens': 0}}, 'model_name': 'gpt-4o-mini-2024-07-18', 'system_fingerprint': 'fp_72ed7ab54c', 'finish_reason': 'stop', 'logprobs': None} id='run-b9071cf8-d20f-4ceb-b7af-c17c084ce967-0' usage_metadata={'input_tokens': 22, 'output_tokens': 262, 'total_tokens': 284, 'input_token_details': {'audio': 0, 'cache_read': 0}, 'output_token_details': {'audio': 0, 'reasoning': 0}}\n"
     ]
    }
   ],
   "source": [
    "system_template = \"You are a helpful assistant.\"\n",
    "human_template = \"{content}\"\n",
    "\n",
    "chat_prompt = ChatPromptTemplate.from_messages([\n",
    "    (\"system\", system_template),\n",
    "    (\"human\", human_template)\n",
    "])\n",
    "\n",
    "chat_chain = chat_prompt | openai_chat_model ### LCEL Chain!\n",
    "\n",
    "print(chat_chain.invoke({\"content\" : \"Please define LangGraph.\"}))"
   ]
  },
  {
   "cell_type": "markdown",
   "metadata": {
    "id": "18KXqGI4XbMb"
   },
   "source": [
    "Well, that's not very good - is it!\n",
    "\n",
    "The issue at play here is that our model was not trained on the idea of \"LangChain\", and so it's left with nothing but a guess - definitely not what we want the answer to be!\n",
    "\n",
    "Let's ask another simple LangChain question!"
   ]
  },
  {
   "cell_type": "code",
   "execution_count": 11,
   "metadata": {
    "colab": {
     "base_uri": "https://localhost:8080/"
    },
    "id": "pRG5LwYoXnsr",
    "outputId": "11185027-a453-43d9-895d-19c654524081"
   },
   "outputs": [
    {
     "name": "stdout",
     "output_type": "stream",
     "text": [
      "content='LangChain Expression Language (LECL) is a domain-specific language developed for use within the LangChain framework, which is a tool designed to facilitate the development of applications that leverage language models. LECL allows developers to construct complex expressions that can be processed by language models, enabling more sophisticated querying and manipulation of data within applications that utilize these models.\\n\\nThe main features of LECL include:\\n\\n1. **Simplicity and Readability**: LECL expressions are designed to be easy to read and write, making them accessible to developers who may not have extensive experience with programming languages.\\n\\n2. **Integration with Language Models**: LECL is specifically tailored to work with language models, allowing developers to easily craft queries and commands that the models can interpret and respond to effectively.\\n\\n3. **Dynamic Querying**: Users can create dynamic queries that can retrieve or manipulate data based on user input or other runtime variables.\\n\\n4. **Rich Expressions**: LECL supports a variety of expression types, including arithmetic operations, logical operations, and string manipulations, allowing for a rich set of functionalities within applications.\\n\\n5. **Customization**: Developers can customize or extend LECL to better fit their specific needs or the needs of their application.\\n\\nOverall, LECL aims to provide a powerful tool for developers working with expressive AI systems, enabling them to create more interactive and responsive applications using natural language processing technologies.' additional_kwargs={'refusal': None} response_metadata={'token_usage': {'completion_tokens': 280, 'prompt_tokens': 27, 'total_tokens': 307, 'completion_tokens_details': {'accepted_prediction_tokens': 0, 'audio_tokens': 0, 'reasoning_tokens': 0, 'rejected_prediction_tokens': 0}, 'prompt_tokens_details': {'audio_tokens': 0, 'cached_tokens': 0}}, 'model_name': 'gpt-4o-mini-2024-07-18', 'system_fingerprint': 'fp_72ed7ab54c', 'finish_reason': 'stop', 'logprobs': None} id='run-fde4e5c7-727c-49e1-9485-7adfca3f5292-0' usage_metadata={'input_tokens': 27, 'output_tokens': 280, 'total_tokens': 307, 'input_token_details': {'audio': 0, 'cache_read': 0}, 'output_token_details': {'audio': 0, 'reasoning': 0}}\n"
     ]
    }
   ],
   "source": [
    "print(chat_chain.invoke({\"content\" : \"What is LangChain Expression Language (LECL)?\"}))"
   ]
  },
  {
   "cell_type": "markdown",
   "metadata": {
    "id": "63pr0fgYXxC3"
   },
   "source": [
    "While it provides a confident response, that response is entirely ficticious! Not a great look, OpenAI!\n",
    "\n",
    "However, let's see what happens when we rework our prompts - and we add the content from the docs to our prompt as context."
   ]
  },
  {
   "cell_type": "code",
   "execution_count": 12,
   "metadata": {
    "colab": {
     "base_uri": "https://localhost:8080/"
    },
    "id": "Fgr25HjgYHwh",
    "outputId": "40e5e551-345e-4c43-c47b-2269d51a0cdd"
   },
   "outputs": [
    {
     "name": "stdout",
     "output_type": "stream",
     "text": [
      "content='LangChain Expression Language (LCEL) is a declarative way to compose chains together, offering several benefits such as support for async, batch, and streaming operations, graceful error handling with fallbacks, automatic parallelism for components, and seamless integration with LangSmith for tracing and observability.' additional_kwargs={'refusal': None} response_metadata={'token_usage': {'completion_tokens': 59, 'prompt_tokens': 282, 'total_tokens': 341, 'completion_tokens_details': {'accepted_prediction_tokens': 0, 'audio_tokens': 0, 'reasoning_tokens': 0, 'rejected_prediction_tokens': 0}, 'prompt_tokens_details': {'audio_tokens': 0, 'cached_tokens': 0}}, 'model_name': 'gpt-4o-mini-2024-07-18', 'system_fingerprint': 'fp_bd83329f63', 'finish_reason': 'stop', 'logprobs': None} id='run-5386bdb3-ff19-49c2-825e-eea8e3e35cef-0' usage_metadata={'input_tokens': 282, 'output_tokens': 59, 'total_tokens': 341, 'input_token_details': {'audio': 0, 'cache_read': 0}, 'output_token_details': {'audio': 0, 'reasoning': 0}}\n"
     ]
    }
   ],
   "source": [
    "HUMAN_TEMPLATE = \"\"\"\n",
    "#CONTEXT:\n",
    "{context}\n",
    "\n",
    "QUERY:\n",
    "{query}\n",
    "\n",
    "Use the provide context to answer the provided user query. Only use the provided context to answer the query. If you do not know the answer, or it's not contained in the provided context response with \"I don't know\"\n",
    "\"\"\"\n",
    "\n",
    "CONTEXT = \"\"\"\n",
    "LangChain Expression Language or LCEL is a declarative way to easily compose chains together. There are several benefits to writing chains in this manner (as opposed to writing normal code):\n",
    "\n",
    "Async, Batch, and Streaming Support Any chain constructed this way will automatically have full sync, async, batch, and streaming support. This makes it easy to prototype a chain in a Jupyter notebook using the sync interface, and then expose it as an async streaming interface.\n",
    "\n",
    "Fallbacks The non-determinism of LLMs makes it important to be able to handle errors gracefully. With LCEL you can easily attach fallbacks to any chain.\n",
    "\n",
    "Parallelism Since LLM applications involve (sometimes long) API calls, it often becomes important to run things in parallel. With LCEL syntax, any components that can be run in parallel automatically are.\n",
    "\n",
    "Seamless LangSmith Tracing Integration As your chains get more and more complex, it becomes increasingly important to understand what exactly is happening at every step. With LCEL, all steps are automatically logged to LangSmith for maximal observability and debuggability.\n",
    "\"\"\"\n",
    "\n",
    "chat_prompt = ChatPromptTemplate.from_messages([\n",
    "    (\"human\", HUMAN_TEMPLATE)\n",
    "])\n",
    "\n",
    "chat_chain = chat_prompt | openai_chat_model\n",
    "\n",
    "print(chat_chain.invoke({\"query\" : \"What is LangChain Expression Language?\", \"context\" : CONTEXT}))"
   ]
  },
  {
   "cell_type": "markdown",
   "metadata": {
    "id": "ppQdtCedY7C4"
   },
   "source": [
    "You'll notice that the response is much better this time. Not only does it answer the question well - but there's no trace of confabulation (hallucination) at all!\n",
    "\n",
    "> NOTE: While RAG is an effective strategy to *help* ground LLMs, it is not nearly 100% effective. You will still need to ensure your responses are factual through some other processes\n",
    "\n",
    "That, in essence, is the idea of RAG. We provide the model with context to answer our queries - and rely on it to translate the potentially lengthy and difficult to parse context into a natural language answer!\n",
    "\n",
    "However, manually providing context is not scalable - and doesn't really offer any benefit.\n",
    "\n",
    "Enter: Retrieval Pipelines."
   ]
  },
  {
   "cell_type": "markdown",
   "metadata": {
    "id": "DFmdARsVBJUq"
   },
   "source": [
    "## Task #4: Implement Naive RAG using LCEL\n",
    "\n",
    "Now we can make a naive RAG application that will help us bridge the gap between our Pythonic implementation and a fully LangChain powered solution!"
   ]
  },
  {
   "cell_type": "markdown",
   "metadata": {
    "id": "n4AozVoEZveK"
   },
   "source": [
    "## Putting the R in RAG: Retrieval 101\n",
    "\n",
    "In order to make our RAG system useful, we need a way to provide context that is most likely to answer our user's query to the LLM as additional context.\n",
    "\n",
    "Let's tackle an immediate problem first: The Context Window.\n",
    "\n",
    "All (most) LLMs have a limited context window which is typically measured in tokens. This window is an upper bound of how much stuff we can stuff in the model's input at a time.\n",
    "\n",
    "Let's say we want to work off of a relatively large piece of source data - like the Ultimate Hitchhiker's Guide to the Galaxy. All 898 pages of it!\n",
    "\n",
    "> NOTE: It is recommended you do not run the following cells, they are purely for demonstrative purposes."
   ]
  },
  {
   "cell_type": "code",
   "execution_count": null,
   "metadata": {
    "id": "PbXBxffibeyp"
   },
   "outputs": [],
   "source": [
    "context = \"\"\"\n",
    "EVERY HITCHHIKER'S GUIDE BOOK\n",
    "\"\"\""
   ]
  },
  {
   "cell_type": "markdown",
   "metadata": {
    "id": "EZvgFuaXcHFT"
   },
   "source": [
    "We can leverage our tokenizer to count the number of tokens for us!"
   ]
  },
  {
   "cell_type": "code",
   "execution_count": null,
   "metadata": {
    "id": "HaKPOdSjbifn"
   },
   "outputs": [],
   "source": [
    "import tiktoken\n",
    "\n",
    "enc = tiktoken.encoding_for_model(\"gpt-4o\")"
   ]
  },
  {
   "cell_type": "code",
   "execution_count": null,
   "metadata": {
    "colab": {
     "base_uri": "https://localhost:8080/"
    },
    "id": "NtDiSMxpE4Xi",
    "outputId": "886fd517-9128-45ca-9fbd-5152ae7f146b"
   },
   "outputs": [
    {
     "data": {
      "text/plain": [
       "636144"
      ]
     },
     "execution_count": 29,
     "metadata": {},
     "output_type": "execute_result"
    }
   ],
   "source": [
    "len(enc.encode(context))"
   ]
  },
  {
   "cell_type": "markdown",
   "metadata": {
    "id": "5oUuZpAicLdm"
   },
   "source": [
    "The full set comes in at a whopping *636,144* tokens.\n",
    "\n",
    "So, we have too much context. What can we do?\n",
    "\n",
    "Well, the first thing that might enter your mind is: \"Use a model with more context window\", and we could definitely do that! However, even `gpt-4-128k` wouldn't be able to fit that whole text in the context window at once.\n",
    "\n",
    "So, we can try splitting our document up into little pieces - that way, we can avoid providing too much context.\n",
    "\n",
    "We have another problem now.\n",
    "\n",
    "If we split our document up into little pieces, and we can't put all of them in the prompt. How do we decide which to include in the prompt?!\n",
    "\n",
    "> NOTE: Content splitting/chunking strategies are an active area of research and iterative developement. There is no \"one size fits all\" approach to chunking/splitting at this moment. Use your best judgement to determine chunking strategies!\n",
    "\n",
    "In order to conceptualize the following processes - let's create a toy context set!"
   ]
  },
  {
   "cell_type": "markdown",
   "metadata": {
    "id": "UPCiOPwUfbqn"
   },
   "source": [
    "### TextSplitting aka Chunking\n",
    "\n",
    "We'll use the `RecursiveCharacterTextSplitter` to create our toy example.\n",
    "\n",
    "It will split based on the following rules:\n",
    "\n",
    "- Each chunk has a maximum size of 100 tokens\n",
    "- It will try and split first on the `\\n\\n` character, then on the `\\n`, then on the `<SPACE>` character, and finally it will split on individual tokens.\n",
    "\n",
    "Let's implement it and see the results!"
   ]
  },
  {
   "cell_type": "code",
   "execution_count": 19,
   "metadata": {
    "id": "nLW9AfDKfVHn"
   },
   "outputs": [],
   "source": [
    "import tiktoken\n",
    "from langchain.text_splitter import RecursiveCharacterTextSplitter\n",
    "\n",
    "def tiktoken_len(text):\n",
    "    tokens = tiktoken.encoding_for_model(\"gpt-4o-mini\").encode(\n",
    "        text,\n",
    "    )\n",
    "    return len(tokens)\n",
    "\n",
    "text_splitter = RecursiveCharacterTextSplitter(\n",
    "    chunk_size = 100,\n",
    "    chunk_overlap = 0,\n",
    "    length_function = tiktoken_len,\n",
    ")"
   ]
  },
  {
   "cell_type": "code",
   "execution_count": 20,
   "metadata": {
    "id": "nPYPBe2ngT9N"
   },
   "outputs": [],
   "source": [
    "chunks = text_splitter.split_text(CONTEXT)"
   ]
  },
  {
   "cell_type": "code",
   "execution_count": 21,
   "metadata": {
    "colab": {
     "base_uri": "https://localhost:8080/"
    },
    "id": "n_RGVlTihaQX",
    "outputId": "7ab8ae25-3b7f-4961-8d4d-9703580927d4"
   },
   "outputs": [
    {
     "data": {
      "text/plain": [
       "3"
      ]
     },
     "execution_count": 21,
     "metadata": {},
     "output_type": "execute_result"
    }
   ],
   "source": [
    "len(chunks)"
   ]
  },
  {
   "cell_type": "code",
   "execution_count": 22,
   "metadata": {
    "colab": {
     "base_uri": "https://localhost:8080/"
    },
    "id": "rTYny2xchS_Z",
    "outputId": "bbce26a0-5400-4ea7-bf02-3260de30137f"
   },
   "outputs": [
    {
     "name": "stdout",
     "output_type": "stream",
     "text": [
      "LangChain Expression Language or LCEL is a declarative way to easily compose chains together. There are several benefits to writing chains in this manner (as opposed to writing normal code):\n",
      "\n",
      "Async, Batch, and Streaming Support Any chain constructed this way will automatically have full sync, async, batch, and streaming support. This makes it easy to prototype a chain in a Jupyter notebook using the sync interface, and then expose it as an async streaming interface.\n",
      "----\n",
      "Fallbacks The non-determinism of LLMs makes it important to be able to handle errors gracefully. With LCEL you can easily attach fallbacks to any chain.\n",
      "\n",
      "Parallelism Since LLM applications involve (sometimes long) API calls, it often becomes important to run things in parallel. With LCEL syntax, any components that can be run in parallel automatically are.\n",
      "----\n",
      "Seamless LangSmith Tracing Integration As your chains get more and more complex, it becomes increasingly important to understand what exactly is happening at every step. With LCEL, all steps are automatically logged to LangSmith for maximal observability and debuggability.\n",
      "----\n"
     ]
    }
   ],
   "source": [
    "for chunk in chunks:\n",
    "  print(chunk)\n",
    "  print(\"----\")"
   ]
  },
  {
   "cell_type": "markdown",
   "metadata": {
    "id": "98hOgu5Yhefv"
   },
   "source": [
    "As is shown in our result, we've split each section into 100 token chunks - cleanly separated by `\\n\\n` characters!"
   ]
  },
  {
   "cell_type": "markdown",
   "metadata": {
    "id": "3PTiJ2utMpqq"
   },
   "source": [
    "####🏗️ Activity #1:\n",
    "\n",
    "While there's nothing specifically wrong with the chunking method used above - it is a naive approach that is not sensitive to specific data formats.\n",
    "\n",
    "Brainstorm some ideas that would split large single documents into smaller documents.\n",
    "\n",
    "1. Split it per topic or subtopics in a document, for example in case of paper: Abstract, Introduction, Experiment, Conclusion. \n",
    "2. Split it per page of the documenet, this would allow us to show the page where the information is found back to the user.\n",
    "3. Combine first and second i.e. Split it per page but expand if the current topic is overflown to next page. "
   ]
  },
  {
   "cell_type": "markdown",
   "metadata": {
    "id": "rj18Rjafhp7d"
   },
   "source": [
    "## Embeddings and Dense Vector Search\n",
    "\n",
    "Now that we have our individual chunks, we need a system to correctly select the relevant pieces of information to answer our query.\n",
    "\n",
    "This sounds like a perfect job for embeddings!\n",
    "\n",
    "We'll be using OpenAI's `text-embedding-3` model as our embedding model today!\n",
    "\n",
    "Let's load it up through LangChain."
   ]
  },
  {
   "cell_type": "code",
   "execution_count": 13,
   "metadata": {
    "id": "quNjOLWspOVN"
   },
   "outputs": [],
   "source": [
    "from langchain_openai.embeddings import OpenAIEmbeddings\n",
    "\n",
    "embedding_model = OpenAIEmbeddings(model=\"text-embedding-3-small\")"
   ]
  },
  {
   "cell_type": "markdown",
   "metadata": {
    "id": "dsGZ92hm9IeX"
   },
   "source": [
    "####❓ Question #2:\n",
    "\n",
    "What is the embedding dimension, given that we're using `text-embedding-3-small`?\n",
    "\n",
    "You will need to fill the next cell out correctly with your embedding dimension for the rest of the notebook to run.\n",
    "\n",
    "> HINT: Check out the [docs](https://platform.openai.com/docs/guides/embeddings) to help you answer this question."
   ]
  },
  {
   "cell_type": "code",
   "execution_count": 14,
   "metadata": {
    "id": "uQu1rCHw-YGF"
   },
   "outputs": [],
   "source": [
    "embedding_dim =  1536"
   ]
  },
  {
   "cell_type": "markdown",
   "metadata": {
    "id": "ByK-zb0FsnqR"
   },
   "source": [
    "### Using A Vector Database - Intoduction to Qdrant\n",
    "\n",
    "Up to this point, we've been using a dictionary to hold our embeddings - typically, we'll want to use a more robust strategy.\n",
    "\n",
    "In this bootcamp - we'll be focusing on leveraging [Qdrant's vector database](https://qdrant.tech/qdrant-vector-database/).\n",
    "\n",
    "Let's take a look at how we set-up Qdrant!\n",
    "\n",
    "> NOTE: We'll be spending a lot of time learning about Qdrant throughout the remainder of our time together - but for an initial primer, please check out [this resource](https://qdrant.tech/articles/what-is-a-vector-database/)\n",
    "\n",
    "We are going to be using an \"in-memory\" Qdrant client, which means that our vectors will be held in our system's memory (RAM) - this is useful for prototyping and developement at smaller scales - but would need to be modified when moving to production. Luckily for us, this modification is trivial!\n",
    "\n",
    "> NOTE: While LangChain uses the terminology \"VectorStore\" (also known as a Vector Library), Qdrant is a \"Vector Database\" - more info. on that [here](https://weaviate.io/blog/vector-library-vs-vector-database)."
   ]
  },
  {
   "cell_type": "code",
   "execution_count": 15,
   "metadata": {
    "id": "EqSFeTNVhHRH"
   },
   "outputs": [],
   "source": [
    "from langchain_qdrant import QdrantVectorStore\n",
    "from qdrant_client import QdrantClient\n",
    "from qdrant_client.http.models import Distance, VectorParams\n",
    "\n",
    "client = QdrantClient(\":memory:\")"
   ]
  },
  {
   "cell_type": "markdown",
   "metadata": {
    "id": "Ax_Oz0P0mz8i"
   },
   "source": [
    "Next, we need to create a collection - a collection is a specific...collection of vectors within the Qdrant client.\n",
    "\n",
    "These are useful as they allow us to create multiple different \"warehouses\" in a single client, which can be leveraged for personalization and more!\n",
    "\n",
    "Also notice that we define what our vector shapes are (embedding dim) as well as our desired distance metric."
   ]
  },
  {
   "cell_type": "code",
   "execution_count": 16,
   "metadata": {
    "colab": {
     "base_uri": "https://localhost:8080/"
    },
    "id": "urH-37OYh6Ca",
    "outputId": "f1866617-a63f-4eac-d7af-49f1b9ccebb8"
   },
   "outputs": [
    {
     "data": {
      "text/plain": [
       "True"
      ]
     },
     "execution_count": 16,
     "metadata": {},
     "output_type": "execute_result"
    }
   ],
   "source": [
    "client.create_collection(\n",
    "    collection_name=\"lcel_doc_v1\",\n",
    "    vectors_config=VectorParams(size=embedding_dim, distance=Distance.COSINE),\n",
    ")"
   ]
  },
  {
   "cell_type": "markdown",
   "metadata": {
    "id": "XCqGyuDp-4gQ"
   },
   "source": [
    "Now we can assemble our vector database! Notice that we provide our client, our created collection, and our embedding model!"
   ]
  },
  {
   "cell_type": "code",
   "execution_count": 17,
   "metadata": {
    "id": "pGDWp-xA-26d"
   },
   "outputs": [],
   "source": [
    "vector_store = QdrantVectorStore(\n",
    "    client=client,\n",
    "    collection_name=\"lcel_doc_v1\",\n",
    "    embedding=embedding_model,\n",
    ")"
   ]
  },
  {
   "cell_type": "markdown",
   "metadata": {
    "id": "Z0hX7erW-S1f"
   },
   "source": [
    "Now that we have our vector database set-up"
   ]
  },
  {
   "cell_type": "code",
   "execution_count": 23,
   "metadata": {
    "id": "_-qHPtPh-SYb"
   },
   "outputs": [],
   "source": [
    "_ = vector_store.add_texts(texts=chunks)"
   ]
  },
  {
   "cell_type": "markdown",
   "metadata": {
    "id": "UPJexL1kuw45"
   },
   "source": [
    "### Creating a Retriever\n",
    "\n",
    "Now that we have an idea of how we're getting our most relevant information - let's see how we could create a pipeline that would automatically extract the closest chunk to our query and use it as context for our prompt!\n",
    "\n",
    "This will involve a popular LangChain interace known as `as_retriever`!\n",
    "\n",
    "> NOTE: We can still specify how many documents we wish to retrieve per vector."
   ]
  },
  {
   "cell_type": "code",
   "execution_count": 24,
   "metadata": {
    "id": "tnLpo26pu8-1"
   },
   "outputs": [],
   "source": [
    "retriever = vector_store.as_retriever(search_kwargs={\"k\": 2})"
   ]
  },
  {
   "cell_type": "markdown",
   "metadata": {
    "id": "2Y4CZ4tKBSeA"
   },
   "source": [
    "## Bringing it All Together\n",
    "\n",
    "Now that we have our Retriever, our promt Augmentation, and our Generator - we're ready to create a simple RAG chain using LCEL!\n",
    "\n",
    "This chain does the following things:\n",
    "\n",
    "1. It takes in some `str` and passes it to two different LCEL Runnables:\n",
    "  - `retriever`, which takes the string and calls `retrieve` on it - passing the output (formatted as a list) to the `dict` under the key `context`\n",
    "  - `RunnablePassthrough()` which simply propogates the `str` to the `dict` under the key `query`.\n",
    "2. It chains the `dict` to format the `chat_prompt` which expects both a `query` and `context`\n",
    "3. It chains the resulting message to the LLM, and calls it - returning a full response\n",
    "4. That response is chained to the `StrOutputParser()` which converts the response blob into a `str` containing the content of the response!"
   ]
  },
  {
   "cell_type": "code",
   "execution_count": 25,
   "metadata": {
    "id": "Pi8sgqhsBeV_"
   },
   "outputs": [],
   "source": [
    "from langchain_core.runnables import RunnablePassthrough\n",
    "from langchain_core.output_parsers import StrOutputParser\n",
    "\n",
    "simple_rag  = (\n",
    "    {\"context\": retriever, \"query\": RunnablePassthrough()}\n",
    "    | chat_prompt\n",
    "    | openai_chat_model\n",
    "    | StrOutputParser()\n",
    ")"
   ]
  },
  {
   "cell_type": "code",
   "execution_count": 26,
   "metadata": {
    "colab": {
     "base_uri": "https://localhost:8080/",
     "height": 70
    },
    "id": "XpY2CiSGBiGX",
    "outputId": "810727f7-843a-4c49-867b-9067fdbda4d2"
   },
   "outputs": [
    {
     "data": {
      "text/plain": [
       "'LCEL, or LangChain Expression Language, is a declarative way to easily compose chains together. It offers several benefits, including automatic support for sync, async, batch, and streaming operations, making it convenient for prototyping in environments like Jupyter notebooks. Additionally, LCEL allows for attaching fallbacks to chains for graceful error handling and supports parallelism, which is essential for running components simultaneously, especially during long API calls in LLM applications.'"
      ]
     },
     "execution_count": 26,
     "metadata": {},
     "output_type": "execute_result"
    }
   ],
   "source": [
    "simple_rag.invoke(\"What is LCEL?\")"
   ]
  },
  {
   "cell_type": "markdown",
   "metadata": {
    "id": "cD2URVX3O3XJ"
   },
   "source": [
    "####❓ Question #3:\n",
    "\n",
    "What does LCEL do that makes it more reliable at scale?\n",
    "\n",
    "> HINT: Use your newly created `simple_rag` to help you answer this question!"
   ]
  },
  {
   "cell_type": "markdown",
   "metadata": {},
   "source": [
    "#### Answer"
   ]
  },
  {
   "cell_type": "code",
   "execution_count": 27,
   "metadata": {},
   "outputs": [
    {
     "data": {
      "text/plain": [
       "'LCEL enhances reliability at scale through features like graceful error handling with fallbacks, allowing for better management of the non-determinism of LLMs. Additionally, it supports parallelism, which is crucial for optimizing long API calls in LLM applications, thereby improving efficiency and reliability when operating at scale.'"
      ]
     },
     "execution_count": 27,
     "metadata": {},
     "output_type": "execute_result"
    }
   ],
   "source": [
    "simple_rag.invoke(\"What does LCEL do that makes it mroe reliable at scale?\")"
   ]
  },
  {
   "cell_type": "markdown",
   "metadata": {
    "id": "QTsujAkpRWpJ"
   },
   "source": [
    "### A Note On Runnables\n",
    "\n",
    "# Understanding LangChain Runnables and LCEL\n",
    "\n",
    "In LangChain, a Runnable is like a LEGO brick in your AI application - it's a standardized component that can be easily connected with other components. The real power of Runnables comes from their ability to be combined in flexible ways using LCEL (LangChain Expression Language).\n",
    "\n",
    "## Key Features of Runnables\n",
    "\n",
    "### 1. Universal Interface\n",
    "Every Runnable in LangChain follows the same pattern:\n",
    "- Takes an input\n",
    "- Performs some operation\n",
    "- Returns an output\n",
    "\n",
    "This consistency means you can treat different components (like models, retrievers, or parsers) in the same way.\n",
    "\n",
    "### 2. Built-in Parallelization\n",
    "Runnables come with methods for handling multiple inputs efficiently:\n",
    "```python\n",
    "# Process inputs in parallel, maintain order\n",
    "results = chain.batch([input1, input2, input3])\n",
    "\n",
    "# Process inputs as they complete\n",
    "for result in chain.batch_as_completed([input1, input2, input3]):\n",
    "    print(result)\n",
    "```\n",
    "\n",
    "### 3. Streaming Support\n",
    "Perfect for responsive applications:\n",
    "```python\n",
    "# Stream outputs as they're generated\n",
    "for chunk in chain.stream({\"query\": \"Tell me a story\"}):\n",
    "    print(chunk, end=\"\", flush=True)\n",
    "```\n",
    "\n",
    "### 4. Easy Composition\n",
    "The `|` operator makes building pipelines intuitive:\n",
    "```python\n",
    "# Create a basic RAG chain\n",
    "rag_chain = retriever | prompt | model | output_parser\n",
    "```\n",
    "\n",
    "## Common Types of Runnables\n",
    "\n",
    "- **Language Models**: Like our `ChatOpenAI` instance\n",
    "- **Prompt Templates**: Format inputs consistently\n",
    "- **Retrievers**: Get relevant context from a vector store\n",
    "- **Output Parsers**: Structure model outputs\n",
    "- **LangGraph Nodes**: Individual components in our graph\n",
    "\n",
    "Think of Runnables as the building blocks of your LLM application. Just like how you can combine LEGO bricks in countless ways, you can mix and match Runnables to create increasingly sophisticated applications!\n",
    "\n"
   ]
  },
  {
   "cell_type": "markdown",
   "metadata": {
    "id": "IIbX3_htQGlS"
   },
   "source": [
    "# 🤝 Breakout Room #2"
   ]
  },
  {
   "cell_type": "markdown",
   "metadata": {
    "id": "kaVlJiilDzwM"
   },
   "source": [
    "## LangGraph Based RAG\n",
    "\n",
    "Now that we have a reasonable grasp of LCEL and the idea of Runnables - let's see how we can use LangGraph to build the same system!"
   ]
  },
  {
   "cell_type": "markdown",
   "metadata": {
    "id": "I77-NKo1EowG"
   },
   "source": [
    "### Primer: What is LangGraph?\n",
    "LangGraph is a tool that leverages LangChain Expression Language to build coordinated multi-actor and stateful applications that includes cyclic behaviour.\n",
    "\n",
    "#### Why Cycles?\n",
    "In essence, we can think of a cycle in our graph as a more robust and customizable loop. It allows us to keep our application agent-forward while still giving the powerful functionality of traditional loops.\n",
    "\n",
    "Due to the inclusion of cycles over loops, we can also compose rather complex flows through our graph in a much more readable and natural fashion. Effectively allowing us to recreate application flowcharts in code in an almost 1-to-1 fashion.\n",
    "\n",
    "#### Why LangGraph?\n",
    "Beyond the agent-forward approach - we can easily compose and combine traditional \"DAG\" (directed acyclic graph) chains with powerful cyclic behaviour due to the tight integration with LCEL. This means it's a natural extension to LangChain's core offerings!\n",
    "\n",
    "> NOTE: We're going to focus on building a simple DAG for today's assignment as an introduction to LangGraph"
   ]
  },
  {
   "cell_type": "code",
   "execution_count": 30,
   "metadata": {
    "id": "VJy-ASfAFRRE"
   },
   "outputs": [
    {
     "name": "stdout",
     "output_type": "stream",
     "text": [
      "pyenv: version `3.13' is not installed (set by /Users/ashwin.patti/learning/AIEBootcamp/04_Production_RAG/.python-version)\n",
      "pyenv: pip: command not found\n",
      "\n",
      "The `pip' command exists in these Python versions:\n",
      "  3.8.19\n",
      "\n",
      "Note: See 'pyenv help global' for tips on allowing both\n",
      "      python2 and python3 to be found.\n"
     ]
    }
   ],
   "source": [
    "!pip install -qU langgraph"
   ]
  },
  {
   "cell_type": "markdown",
   "metadata": {
    "id": "kfLCnMXNE_Qc"
   },
   "source": [
    "### Putting the State in Stateful\n",
    "\n",
    "Earlier we used this phrasing:\n",
    "\n",
    "> coordinated multi-actor and stateful applications\n",
    "\n",
    "So what does that \"stateful\" mean?\n",
    "\n",
    "To put it simply - we want to have some kind of object which we can pass around our application that holds information about what the current situation (state) is. Since our system will be constructed of many parts moving in a coordinated fashion - we want to be able to ensure we have some commonly understood idea of that state.\n",
    "\n",
    "LangGraph leverages a `StatefulGraph` which uses an `AgentState` object to pass information between the various nodes of the graph.\n",
    "\n",
    "There are more options than what we'll see below - but this `AgentState` object is one that is stored in a `TypedDict` with the key `messages` and the value is a `Sequence` of `BaseMessages` that will be appended to whenever the state changes.\n",
    "\n",
    "However, in our example here, we're focusing on a simpler `State` object:\n",
    "\n",
    "```python\n",
    "class State(TypedDict):\n",
    "    question: str\n",
    "    context: List[Document]\n",
    "    response: str\n",
    "```\n",
    "\n",
    "Let's think about a simple example to help understand exactly what this means (we'll simplify a great deal to try and clearly communicate what state is doing):\n",
    "\n",
    "1. **We initialize our state object**:\n",
    "   ```python\n",
    "   {\n",
    "       \"question\": \"\",\n",
    "       \"context\": [],\n",
    "       \"response\": \"\"\n",
    "   }\n",
    "   ```\n",
    "\n",
    "2. **Our user submits a query to our application.**  \n",
    "   We store the user's question in `state[\"question\"]`. Now we have:\n",
    "   ```python\n",
    "   {\n",
    "       \"question\": \"How tall is the Eiffel Tower?\",\n",
    "       \"context\": [],\n",
    "       \"response\": \"\"\n",
    "   }\n",
    "   ```\n",
    "\n",
    "3. **We pass our state object to an Agent node** which is able to read the current state. It will use the value of `state[\"question\"]` as input and might retrieve some context documents related to the question. It then generates a response which it stores in `state[\"response\"]`. For example:\n",
    "   ```python\n",
    "   {\n",
    "       \"question\": \"How tall is the Eiffel Tower?\",\n",
    "       \"context\": [Document(page_content=\"...some data...\")],\n",
    "       \"response\": \"The Eiffel Tower is about 324 meters tall...\"\n",
    "   }\n",
    "   ```\n",
    "\n",
    "That's it! The important part is that we have a consistent object (`State`) that's passed around, holding the crucial information as we go from one node to the next. This ensures our application has a single source of truth about what has happened so far and what is happening now.\n",
    "\n"
   ]
  },
  {
   "cell_type": "code",
   "execution_count": 89,
   "metadata": {
    "id": "kxczzsfVFNWT"
   },
   "outputs": [],
   "source": [
    "from langgraph.graph import START, StateGraph\n",
    "from typing_extensions import List, TypedDict\n",
    "from langchain_core.documents import Document\n",
    "\n",
    "class State(TypedDict):\n",
    "  question: str\n",
    "  context: List[Document]\n",
    "  response: str"
   ]
  },
  {
   "cell_type": "markdown",
   "metadata": {
    "id": "6l6xFY0_HoXG"
   },
   "source": [
    "Now that we have state, and we have tools, and we have an LLM - we can finally start making our graph!\n",
    "\n",
    "Let's take a second to refresh ourselves about what a graph is in this context.\n",
    "\n",
    "Graphs, also called networks in some circles, are a collection of connected objects.\n",
    "\n",
    "The objects in question are typically called nodes, or vertices, and the connections are called edges.\n",
    "\n",
    "Let's look at a simple graph.\n",
    "\n",
    "![image](https://i.imgur.com/2NFLnIc.png)\n",
    "\n",
    "Here, we're using the coloured circles to represent the nodes and the yellow lines to represent the edges. In this case, we're looking at a fully connected graph - where each node is connected by an edge to each other node.\n",
    "\n",
    "If we were to think about nodes in the context of LangGraph - we would think of a function, or an LCEL Runnable.\n",
    "\n",
    "If we were to think about edges in the context of LangGraph - we might think of them as \"paths to take\" or \"where to pass our state object next\".  "
   ]
  },
  {
   "cell_type": "markdown",
   "metadata": {
    "id": "keL9O1drInw1"
   },
   "source": [
    "### Building Nodes\n",
    "\n",
    "We're going to need two nodes:\n",
    "\n",
    "A node for retrieval, and a node for generation.\n",
    "\n",
    "Let's start with our `retrieve` node!\n",
    "\n",
    "Notice how we do not need to update the state object in the node, but can instead return a modification directly to our state."
   ]
  },
  {
   "cell_type": "code",
   "execution_count": 33,
   "metadata": {
    "id": "05qhncktIwK_"
   },
   "outputs": [],
   "source": [
    "def retrieve(state: State) -> State:\n",
    "  retrieved_docs = retriever.invoke(state[\"question\"])\n",
    "  return {\"context\" : retrieved_docs}"
   ]
  },
  {
   "cell_type": "markdown",
   "metadata": {
    "id": "_gZktSLAJL5Z"
   },
   "source": [
    "Next, let's create our `generate` node - which will leverage some LCEL!"
   ]
  },
  {
   "cell_type": "code",
   "execution_count": 103,
   "metadata": {
    "id": "XiL2isC8JS0l"
   },
   "outputs": [],
   "source": [
    "def generate(state: State) -> State:\n",
    "  generation_chain = chat_prompt | openai_chat_model | StrOutputParser()\n",
    "  response = generation_chain.invoke({\"query\" : state[\"question\"], \"context\" : state[\"context\"]})\n",
    "  return {\"response\" : response}"
   ]
  },
  {
   "cell_type": "markdown",
   "metadata": {
    "id": "_ZtriMEcJxeR"
   },
   "source": [
    "Now we can start defining our graph!\n",
    "\n",
    "Think of the graph's state as a blank canvas that we can add nodes and edges to.\n",
    "\n",
    "Every graph starts with two special nodes - START and END - the act as the entry and exit point to the other nodes in the graphs.  \n",
    "\n",
    "All valid graphs must start at the START node and end at the END node."
   ]
  },
  {
   "cell_type": "code",
   "execution_count": 35,
   "metadata": {
    "id": "ia9IWM9AJ4bx"
   },
   "outputs": [],
   "source": [
    "# Start with the blank canvas\n",
    "graph_builder = StateGraph(State)"
   ]
  },
  {
   "cell_type": "markdown",
   "metadata": {
    "id": "8kro8bQEL2Yj"
   },
   "source": [
    "Now we can add a sequence to our \"canvas\" (graph) - this can be done by providing a list of nodes, the will automatically have edges that connect the i-th element to the i+1-th element in the list. The final element will be added to the END node unless otherwise specified."
   ]
  },
  {
   "cell_type": "code",
   "execution_count": 36,
   "metadata": {
    "id": "OSfDMlXUL2kh"
   },
   "outputs": [],
   "source": [
    "graph_builder = graph_builder.add_sequence([retrieve, generate])"
   ]
  },
  {
   "cell_type": "markdown",
   "metadata": {
    "id": "g79NZf5VL4en"
   },
   "source": [
    "Next, let's connect our START node to our `retrieve` node by adding an edge."
   ]
  },
  {
   "cell_type": "code",
   "execution_count": 37,
   "metadata": {
    "id": "w1kTJKGNL4qA"
   },
   "outputs": [
    {
     "data": {
      "text/plain": [
       "<langgraph.graph.state.StateGraph at 0x12e635160>"
      ]
     },
     "execution_count": 37,
     "metadata": {},
     "output_type": "execute_result"
    }
   ],
   "source": [
    "graph_builder.add_edge(START, \"retrieve\")"
   ]
  },
  {
   "cell_type": "markdown",
   "metadata": {
    "id": "5EiVyt8-L6_5"
   },
   "source": [
    "Finally we can compile our graph! This will do basic verification to ensure that the Runnables have the correct inputs/outputs and can be matched."
   ]
  },
  {
   "cell_type": "code",
   "execution_count": 38,
   "metadata": {
    "id": "TM4My6geL7FW"
   },
   "outputs": [],
   "source": [
    "graph = graph_builder.compile()"
   ]
  },
  {
   "cell_type": "markdown",
   "metadata": {
    "id": "fNvoQcfCP3xI"
   },
   "source": [
    "Finally, we can visualize our graph!"
   ]
  },
  {
   "cell_type": "code",
   "execution_count": 39,
   "metadata": {
    "colab": {
     "base_uri": "https://localhost:8080/",
     "height": 251
    },
    "id": "RgKu1O3QLKF6",
    "outputId": "39566d40-27e6-44e2-894c-68420030653d"
   },
   "outputs": [
    {
     "data": {
      "image/png": "[encoded data removed]",
      "text/plain": [
       "<IPython.core.display.Image object>"
      ]
     },
     "metadata": {},
     "output_type": "display_data"
    }
   ],
   "source": [
    "from IPython.display import Image, display\n",
    "from langchain_core.runnables.graph import CurveStyle, MermaidDrawMethod, NodeStyles\n",
    "\n",
    "display(\n",
    "    Image(\n",
    "        graph.get_graph().draw_mermaid_png(\n",
    "            draw_method=MermaidDrawMethod.API,\n",
    "        )\n",
    "    )\n",
    ")"
   ]
  },
  {
   "cell_type": "markdown",
   "metadata": {
    "id": "sBRCjvvyP8DA"
   },
   "source": [
    "Let's take it for a spin!\n",
    "\n",
    "We invoke our graph like we do any other Runnable in LCEL!\n",
    "\n",
    "> NOTE: That's right, even a compiled graph is a Runnable!"
   ]
  },
  {
   "cell_type": "code",
   "execution_count": 40,
   "metadata": {
    "colab": {
     "base_uri": "https://localhost:8080/",
     "height": 105
    },
    "id": "mSbsRLurKOKd",
    "outputId": "114185f3-4b98-4c66-96cd-65f4e4e3ef1d"
   },
   "outputs": [
    {
     "data": {
      "text/plain": [
       "'LCEL (LangChain Expression Language) works as a declarative way to easily compose chains together. It automatically supports various functionalities including asynchronous operations, batch processing, and streaming support. This allows users to prototype chains easily in a Jupyter notebook using the synchronous interface and later expose them as asynchronous streaming interfaces.\\n\\nAdditionally, LCEL facilitates error handling by allowing fallbacks to be attached to any chain, which is crucial given the non-determinism of language models (LLMs). It also supports parallelism, enabling components that can run in parallel to do so efficiently, which is important for managing potentially long API calls typical in LLM applications.'"
      ]
     },
     "execution_count": 40,
     "metadata": {},
     "output_type": "execute_result"
    }
   ],
   "source": [
    "response = graph.invoke({\"question\" : \"How does LCEL work?\"})\n",
    "response[\"response\"]"
   ]
  },
  {
   "cell_type": "code",
   "execution_count": 41,
   "metadata": {
    "colab": {
     "base_uri": "https://localhost:8080/",
     "height": 35
    },
    "id": "a_jEmE_rKwED",
    "outputId": "c5fac807-2a24-4cf9-8cca-105def13e3d8"
   },
   "outputs": [
    {
     "data": {
      "text/plain": [
       "\"I don't know.\""
      ]
     },
     "execution_count": 41,
     "metadata": {},
     "output_type": "execute_result"
    }
   ],
   "source": [
    "response = graph.invoke({\"question\" : \"Who is Batman?\"})\n",
    "response[\"response\"]"
   ]
  },
  {
   "cell_type": "markdown",
   "metadata": {
    "id": "E_LRYXvvRjOp"
   },
   "source": [
    "#### ❓ Question #4:\n",
    "LangGraph's graph-based approach lets us visualize and manage complex flows naturally. How could we extend our current implementation to handle edge cases? For example:\n",
    "- What if the retriever finds no relevant context?  \n",
    "- What if the response needs fact-checking?\n",
    "Consider how you would modify the graph to handle these scenarios."
   ]
  },
  {
   "cell_type": "markdown",
   "metadata": {},
   "source": [
    "#### Answer:\n",
    "What if the retriever finds no relevant context? </br>\n",
    "We can add a new conditional node after retrieve which would check for retrieve contents and would move to generate state only if content exists or else it would route to no context node and end the state.<br/>\n",
    "Updated code and graph:"
   ]
  },
  {
   "cell_type": "code",
   "execution_count": 90,
   "metadata": {},
   "outputs": [],
   "source": [
    "import random\n",
    "from typing import Literal"
   ]
  },
  {
   "cell_type": "code",
   "execution_count": 92,
   "metadata": {},
   "outputs": [
    {
     "data": {
      "image/png": "[encoded data removed]",
      "text/plain": [
       "<IPython.core.display.Image object>"
      ]
     },
     "metadata": {},
     "output_type": "display_data"
    }
   ],
   "source": [
    "def validate_retrieve(state: State) -> Literal[\"generate\",\"no_context_handler\"]:\n",
    "    if len(state[\"context\"])>0:\n",
    "        return \"generate\"\n",
    "    else:\n",
    "        return \"no_context_handler\"\n",
    "\n",
    "def no_context_handler(state:State) -> State:\n",
    "    return {\"response\" : \"No context\"}\n",
    "\n",
    "graph_builder = StateGraph(State)\n",
    "#add nodes\n",
    "graph_builder.add_node(retrieve)\n",
    "graph_builder.add_node(generate)\n",
    "graph_builder.add_node(no_context_handler)\n",
    "\n",
    "#add edges\n",
    "#start edge\n",
    "graph_builder.add_edge(START, \"retrieve\")\n",
    "\n",
    "#conditional edge\n",
    "graph_builder.add_conditional_edges(\"retrieve\",\n",
    "                                    validate_retrieve,{\n",
    "                                        \"generate\":\"generate\",\n",
    "                                        \"no_context_handler\":\"no_context_handler\"\n",
    "                                    },)\n",
    "\n",
    "#compile\n",
    "graph = graph_builder.compile()\n",
    "\n",
    "#visualize the graph\n",
    "from IPython.display import Image, display\n",
    "from langchain_core.runnables.graph import CurveStyle, MermaidDrawMethod, NodeStyles\n",
    "\n",
    "display(\n",
    "    Image(\n",
    "        graph.get_graph().draw_mermaid_png(\n",
    "            draw_method=MermaidDrawMethod.API,\n",
    "        )\n",
    "    )\n",
    ")"
   ]
  },
  {
   "cell_type": "code",
   "execution_count": 86,
   "metadata": {},
   "outputs": [
    {
     "data": {
      "text/plain": [
       "'LCEL, or LangChain Expression Language, is a declarative method for composing chains together. It offers several advantages compared to traditional coding approaches:\\n\\n1. **Async, Batch, and Streaming Support**: Chains constructed using LCEL automatically support synchronous, asynchronous, batch, and streaming interfaces. This allows for easy prototyping in environments like Jupyter notebooks with a synchronous interface, which can later be exposed as an async streaming interface.\\n\\n2. **Fallbacks**: Given the non-deterministic nature of large language models (LLMs), LCEL includes the ability to handle errors gracefully by attaching fallbacks to any chain.\\n\\n3. **Parallelism**: Since LLM applications often involve lengthy API calls, LCEL allows for components that can run in parallel to do so automatically, improving efficiency.'"
      ]
     },
     "execution_count": 86,
     "metadata": {},
     "output_type": "execute_result"
    }
   ],
   "source": [
    "response = graph.invoke({\"question\" : \"How does LCEL work?\"})\n",
    "response[\"response\"]"
   ]
  },
  {
   "cell_type": "code",
   "execution_count": 82,
   "metadata": {},
   "outputs": [
    {
     "data": {
      "text/plain": [
       "'No context'"
      ]
     },
     "execution_count": 82,
     "metadata": {},
     "output_type": "execute_result"
    }
   ],
   "source": [
    "response = graph.invoke({\"question\" : \"What is 49ers nfl record\"})\n",
    "response[\"response\"]"
   ]
  },
  {
   "cell_type": "markdown",
   "metadata": {},
   "source": [
    "#### Answer:\n",
    "What if the response needs fact-checking? Consider how you would modify the graph to handle these scenarios.<br/>\n",
    "Similar to the above, we would add a fact-checking node/tool and hook it after the generate node. If fact-checking returns true, then we end the process; otherwise, we re-generate by calling the generate node again. Note: We can avoid getting into an infinite loop by setting a limit and checking its value before going back to the generate node. We can maintain the number of times the generate node is called in the state variable and reset the count on succesful response<br/>\n",
    "In order to combine control flow and state update, I am using Command object from langgraph and modified the retrive node to check for context. Note: We could have added a separate node to check for context but wanted to play around by changing the retrieve node.\n",
    "Updated code and graph:"
   ]
  },
  {
   "cell_type": "code",
   "execution_count": 111,
   "metadata": {},
   "outputs": [],
   "source": [
    "from langgraph.types import Command\n",
    "from langgraph.graph import END"
   ]
  },
  {
   "cell_type": "code",
   "execution_count": 112,
   "metadata": {},
   "outputs": [
    {
     "data": {
      "image/png": "[encoded data removed]",
      "text/plain": [
       "<IPython.core.display.Image object>"
      ]
     },
     "metadata": {},
     "output_type": "display_data"
    }
   ],
   "source": [
    "max_retry_count=5\n",
    "class State(TypedDict):\n",
    "  question: str\n",
    "  context: List[Document]\n",
    "  response: str\n",
    "  generate_function_call_count: int\n",
    "\n",
    "\n",
    "def retrieve(state: State) -> Command[Literal[\"generate\",END]]:\n",
    "    retrieved_docs = retriever.invoke(state[\"question\"])\n",
    "    response = state[\"response\"]\n",
    "    \n",
    "    if len(retrieved_docs)>0:\n",
    "        goto=\"generate\"\n",
    "    else:\n",
    "        #goto=END\n",
    "        response = \"No relevant context found\"\n",
    "\n",
    "    return Command(\n",
    "        update={\"context\" : retrieved_docs,\"response\":response},\n",
    "        goto = goto\n",
    "    )\n",
    "\n",
    "def fact_check_response(state:State) -> Command[Literal[\"generate\",END]]:\n",
    "    generate_function_call_count = state[\"generate_function_call_count\"]\n",
    "    response = state[\"response\"]\n",
    "    \n",
    "    if random.random() < 0.5: #if random less than 0.5 then fact check failed\n",
    "        if generate_function_call_count<max_retry_count: #max retry count\n",
    "            generate_function_call_count+=1\n",
    "            goto = \"generate\"\n",
    "        else:\n",
    "            generate_function_call_count=0\n",
    "            response = \"LLM response fact check failed!!\"\n",
    "    else:\n",
    "        generate_function_call_count=0\n",
    "        #goto = END\n",
    "\n",
    "    return Command(\n",
    "        update={\"response\":response,\"generate_function_call_count\":generate_function_call_count},\n",
    "        goto = goto\n",
    "    )\n",
    "\n",
    "\n",
    "graph_builder = StateGraph(State)\n",
    "#add nodes\n",
    "graph_builder.add_node(retrieve)\n",
    "graph_builder.add_node(generate)\n",
    "graph_builder.add_node(fact_check_response)\n",
    "\n",
    "#add edges\n",
    "#start edge\n",
    "graph_builder.add_edge(START, \"retrieve\")\n",
    "graph_builder.add_edge(\"generate\",\"fact_check_response\")\n",
    "\n",
    "\n",
    "\n",
    "#compile\n",
    "graph = graph_builder.compile()\n",
    "\n",
    "#visualize the graph\n",
    "from IPython.display import Image, display\n",
    "from langchain_core.runnables.graph import CurveStyle, MermaidDrawMethod, NodeStyles\n",
    "\n",
    "display(\n",
    "    Image(\n",
    "        graph.get_graph().draw_mermaid_png(\n",
    "            draw_method=MermaidDrawMethod.API,\n",
    "        )\n",
    "    )\n",
    ")\n",
    "    "
   ]
  },
  {
   "cell_type": "code",
   "execution_count": null,
   "metadata": {},
   "outputs": [],
   "source": []
  }
 ],
 "metadata": {
  "accelerator": "GPU",
  "colab": {
   "gpuType": "T4",
   "machine_shape": "hm",
   "provenance": [],
   "toc_visible": true
  },
  "kernelspec": {
   "display_name": "Python 3 (ipykernel)",
   "language": "python",
   "name": "python3"
  },
  "language_info": {
   "codemirror_mode": {
    "name": "ipython",
    "version": 3
   },
   "file_extension": ".py",
   "mimetype": "text/x-python",
   "name": "python",
   "nbconvert_exporter": "python",
   "pygments_lexer": "ipython3",
   "version": "3.13.1"
  }
 },
 "nbformat": 4,
 "nbformat_minor": 4
}
